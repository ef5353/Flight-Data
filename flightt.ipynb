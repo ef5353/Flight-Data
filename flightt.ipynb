{
 "cells": [
  {
   "cell_type": "code",
   "execution_count": 10,
   "id": "350b0fab-9574-4cdf-b62a-0a760bc02a2d",
   "metadata": {},
   "outputs": [],
   "source": [
    "import pandas as pd\n",
    "import numpy as np\n",
    "import matplotlib.pyplot as plt\n",
    "%matplotlib inline\n",
    "import seaborn as sns"
   ]
  },
  {
   "cell_type": "code",
   "execution_count": 11,
   "id": "505a20cc-1ea2-4bf0-8b7b-c9ef3073f931",
   "metadata": {},
   "outputs": [],
   "source": [
    "df=pd.read_csv('pakistan_flight_data_final.csv')"
   ]
  },
  {
   "cell_type": "code",
   "execution_count": 13,
   "id": "38634dea-ed6c-40ee-a3cd-477b1907ed00",
   "metadata": {},
   "outputs": [
    {
     "data": {
      "text/plain": [
       "Index(['Flight_ID', 'Airline', 'Source_Airport', 'Destination_Airport',\n",
       "       'Departure_Time', 'Departure_Period', 'Arrival_Time', 'Arrival_Period',\n",
       "       'Duration', 'Distance_km', 'Aircraft_Type', 'Ticket_Price_PKR',\n",
       "       'Delay_Minutes', 'Status', 'Airline_Frequency'],\n",
       "      dtype='object')"
      ]
     },
     "execution_count": 13,
     "metadata": {},
     "output_type": "execute_result"
    }
   ],
   "source": [
    "df.columns"
   ]
  },
  {
   "cell_type": "code",
   "execution_count": 7,
   "id": "854c644f-e029-4c0e-9f4a-71b27432dbc0",
   "metadata": {},
   "outputs": [
    {
     "data": {
      "text/html": [
       "<div>\n",
       "<style scoped>\n",
       "    .dataframe tbody tr th:only-of-type {\n",
       "        vertical-align: middle;\n",
       "    }\n",
       "\n",
       "    .dataframe tbody tr th {\n",
       "        vertical-align: top;\n",
       "    }\n",
       "\n",
       "    .dataframe thead th {\n",
       "        text-align: right;\n",
       "    }\n",
       "</style>\n",
       "<table border=\"1\" class=\"dataframe\">\n",
       "  <thead>\n",
       "    <tr style=\"text-align: right;\">\n",
       "      <th></th>\n",
       "      <th>Flight_ID</th>\n",
       "      <th>Airline</th>\n",
       "      <th>Source_Airport</th>\n",
       "      <th>Destination_Airport</th>\n",
       "      <th>Departure_Time</th>\n",
       "      <th>Departure_Period</th>\n",
       "      <th>Arrival_Time</th>\n",
       "      <th>Arrival_Period</th>\n",
       "      <th>Duration</th>\n",
       "      <th>Distance_km</th>\n",
       "      <th>Aircraft_Type</th>\n",
       "      <th>Ticket_Price_PKR</th>\n",
       "      <th>Delay_Minutes</th>\n",
       "      <th>Status</th>\n",
       "      <th>Airline_Frequency</th>\n",
       "    </tr>\n",
       "  </thead>\n",
       "  <tbody>\n",
       "    <tr>\n",
       "      <th>0</th>\n",
       "      <td>PI664</td>\n",
       "      <td>SereneAir</td>\n",
       "      <td>SKZ</td>\n",
       "      <td>MUX</td>\n",
       "      <td>2025-10-22 18:24</td>\n",
       "      <td>Evening</td>\n",
       "      <td>2025-10-22 22:16</td>\n",
       "      <td>Night</td>\n",
       "      <td>1h 50m</td>\n",
       "      <td>975</td>\n",
       "      <td>Airbus A320</td>\n",
       "      <td>26948</td>\n",
       "      <td>120</td>\n",
       "      <td>Delayed</td>\n",
       "      <td>244</td>\n",
       "    </tr>\n",
       "    <tr>\n",
       "      <th>1</th>\n",
       "      <td>AI647</td>\n",
       "      <td>AirSial</td>\n",
       "      <td>UET</td>\n",
       "      <td>KHI</td>\n",
       "      <td>2025-10-22 23:13</td>\n",
       "      <td>Night</td>\n",
       "      <td>2025-10-23 03:13</td>\n",
       "      <td>Night</td>\n",
       "      <td>3h 54m</td>\n",
       "      <td>982</td>\n",
       "      <td>Airbus A321</td>\n",
       "      <td>13010</td>\n",
       "      <td>120</td>\n",
       "      <td>Delayed</td>\n",
       "      <td>280</td>\n",
       "    </tr>\n",
       "    <tr>\n",
       "      <th>2</th>\n",
       "      <td>PI638</td>\n",
       "      <td>SereneAir</td>\n",
       "      <td>SKZ</td>\n",
       "      <td>LHE</td>\n",
       "      <td>2025-10-17 06:45</td>\n",
       "      <td>Morning</td>\n",
       "      <td>2025-10-17 09:55</td>\n",
       "      <td>Morning</td>\n",
       "      <td>3h 14m</td>\n",
       "      <td>1473</td>\n",
       "      <td>Boeing 737</td>\n",
       "      <td>11845</td>\n",
       "      <td>0</td>\n",
       "      <td>On-Time</td>\n",
       "      <td>244</td>\n",
       "    </tr>\n",
       "    <tr>\n",
       "      <th>3</th>\n",
       "      <td>PI378</td>\n",
       "      <td>PIA</td>\n",
       "      <td>ISB</td>\n",
       "      <td>MUX</td>\n",
       "      <td>2025-10-22 00:56</td>\n",
       "      <td>Night</td>\n",
       "      <td>2025-10-22 05:07</td>\n",
       "      <td>Morning</td>\n",
       "      <td>1h 35m</td>\n",
       "      <td>1329</td>\n",
       "      <td>Airbus A321</td>\n",
       "      <td>34858</td>\n",
       "      <td>15</td>\n",
       "      <td>Cancelled</td>\n",
       "      <td>240</td>\n",
       "    </tr>\n",
       "    <tr>\n",
       "      <th>4</th>\n",
       "      <td>AI225</td>\n",
       "      <td>AirSial</td>\n",
       "      <td>LHE</td>\n",
       "      <td>LYP</td>\n",
       "      <td>2025-10-08 12:32</td>\n",
       "      <td>Afternoon</td>\n",
       "      <td>2025-10-08 15:23</td>\n",
       "      <td>Afternoon</td>\n",
       "      <td>4h 17m</td>\n",
       "      <td>910</td>\n",
       "      <td>Boeing 737</td>\n",
       "      <td>39800</td>\n",
       "      <td>120</td>\n",
       "      <td>Cancelled</td>\n",
       "      <td>280</td>\n",
       "    </tr>\n",
       "    <tr>\n",
       "      <th>5</th>\n",
       "      <td>SE116</td>\n",
       "      <td>AirSial</td>\n",
       "      <td>LHE</td>\n",
       "      <td>UET</td>\n",
       "      <td>2025-10-29 18:10</td>\n",
       "      <td>Evening</td>\n",
       "      <td>2025-10-29 21:02</td>\n",
       "      <td>Night</td>\n",
       "      <td>4h 38m</td>\n",
       "      <td>552</td>\n",
       "      <td>Airbus A321</td>\n",
       "      <td>28978</td>\n",
       "      <td>15</td>\n",
       "      <td>Cancelled</td>\n",
       "      <td>280</td>\n",
       "    </tr>\n",
       "    <tr>\n",
       "      <th>6</th>\n",
       "      <td>PI819</td>\n",
       "      <td>AirBlue</td>\n",
       "      <td>MUX</td>\n",
       "      <td>LYP</td>\n",
       "      <td>2025-10-07 11:30</td>\n",
       "      <td>Morning</td>\n",
       "      <td>2025-10-07 15:26</td>\n",
       "      <td>Afternoon</td>\n",
       "      <td>2h 12m</td>\n",
       "      <td>754</td>\n",
       "      <td>ATR 72</td>\n",
       "      <td>42159</td>\n",
       "      <td>30</td>\n",
       "      <td>Cancelled</td>\n",
       "      <td>290</td>\n",
       "    </tr>\n",
       "  </tbody>\n",
       "</table>\n",
       "</div>"
      ],
      "text/plain": [
       "  Flight_ID    Airline Source_Airport Destination_Airport    Departure_Time  \\\n",
       "0     PI664  SereneAir            SKZ                 MUX  2025-10-22 18:24   \n",
       "1     AI647    AirSial            UET                 KHI  2025-10-22 23:13   \n",
       "2     PI638  SereneAir            SKZ                 LHE  2025-10-17 06:45   \n",
       "3     PI378        PIA            ISB                 MUX  2025-10-22 00:56   \n",
       "4     AI225    AirSial            LHE                 LYP  2025-10-08 12:32   \n",
       "5     SE116    AirSial            LHE                 UET  2025-10-29 18:10   \n",
       "6     PI819    AirBlue            MUX                 LYP  2025-10-07 11:30   \n",
       "\n",
       "  Departure_Period      Arrival_Time Arrival_Period Duration  Distance_km  \\\n",
       "0          Evening  2025-10-22 22:16          Night   1h 50m          975   \n",
       "1            Night  2025-10-23 03:13          Night   3h 54m          982   \n",
       "2          Morning  2025-10-17 09:55        Morning   3h 14m         1473   \n",
       "3            Night  2025-10-22 05:07        Morning   1h 35m         1329   \n",
       "4        Afternoon  2025-10-08 15:23      Afternoon   4h 17m          910   \n",
       "5          Evening  2025-10-29 21:02          Night   4h 38m          552   \n",
       "6          Morning  2025-10-07 15:26      Afternoon   2h 12m          754   \n",
       "\n",
       "  Aircraft_Type  Ticket_Price_PKR  Delay_Minutes     Status  Airline_Frequency  \n",
       "0   Airbus A320             26948            120    Delayed                244  \n",
       "1   Airbus A321             13010            120    Delayed                280  \n",
       "2    Boeing 737             11845              0    On-Time                244  \n",
       "3   Airbus A321             34858             15  Cancelled                240  \n",
       "4    Boeing 737             39800            120  Cancelled                280  \n",
       "5   Airbus A321             28978             15  Cancelled                280  \n",
       "6        ATR 72             42159             30  Cancelled                290  "
      ]
     },
     "execution_count": 7,
     "metadata": {},
     "output_type": "execute_result"
    }
   ],
   "source": [
    "df.head(7)"
   ]
  },
  {
   "cell_type": "code",
   "execution_count": 14,
   "id": "d207979d-bd1a-468f-a232-70432f7ec1c8",
   "metadata": {},
   "outputs": [
    {
     "data": {
      "text/plain": [
       "(1311, 15)"
      ]
     },
     "execution_count": 14,
     "metadata": {},
     "output_type": "execute_result"
    }
   ],
   "source": [
    "df.shape"
   ]
  },
  {
   "cell_type": "code",
   "execution_count": 15,
   "id": "2bd2ec09-7aa4-4ed7-9952-16960b214384",
   "metadata": {},
   "outputs": [
    {
     "data": {
      "text/plain": [
       "Flight_ID              0\n",
       "Airline                0\n",
       "Source_Airport         0\n",
       "Destination_Airport    0\n",
       "Departure_Time         0\n",
       "Departure_Period       0\n",
       "Arrival_Time           0\n",
       "Arrival_Period         0\n",
       "Duration               0\n",
       "Distance_km            0\n",
       "Aircraft_Type          0\n",
       "Ticket_Price_PKR       0\n",
       "Delay_Minutes          0\n",
       "Status                 0\n",
       "Airline_Frequency      0\n",
       "dtype: int64"
      ]
     },
     "execution_count": 15,
     "metadata": {},
     "output_type": "execute_result"
    }
   ],
   "source": [
    "pd.isnull(df).sum()\n"
   ]
  },
  {
   "cell_type": "code",
   "execution_count": 16,
   "id": "75d62e5a-11d3-48de-831b-87b7531c5945",
   "metadata": {},
   "outputs": [],
   "source": [
    "\n",
    "df['Departure_Time'] = pd.to_datetime(df['Departure_Time'])\n",
    "df['Arrival_Time'] = pd.to_datetime(df['Arrival_Time'])\n"
   ]
  },
  {
   "cell_type": "code",
   "execution_count": 17,
   "id": "f75b49ce-5f34-48e5-93ea-9cfa5260b936",
   "metadata": {},
   "outputs": [
    {
     "data": {
      "text/html": [
       "<div>\n",
       "<style scoped>\n",
       "    .dataframe tbody tr th:only-of-type {\n",
       "        vertical-align: middle;\n",
       "    }\n",
       "\n",
       "    .dataframe tbody tr th {\n",
       "        vertical-align: top;\n",
       "    }\n",
       "\n",
       "    .dataframe thead th {\n",
       "        text-align: right;\n",
       "    }\n",
       "</style>\n",
       "<table border=\"1\" class=\"dataframe\">\n",
       "  <thead>\n",
       "    <tr style=\"text-align: right;\">\n",
       "      <th></th>\n",
       "      <th>Flight_ID</th>\n",
       "      <th>Airline</th>\n",
       "      <th>Source_Airport</th>\n",
       "      <th>Destination_Airport</th>\n",
       "      <th>Departure_Time</th>\n",
       "      <th>Departure_Period</th>\n",
       "      <th>Arrival_Time</th>\n",
       "      <th>Arrival_Period</th>\n",
       "      <th>Duration</th>\n",
       "      <th>Distance_km</th>\n",
       "      <th>Aircraft_Type</th>\n",
       "      <th>Ticket_Price_PKR</th>\n",
       "      <th>Delay_Minutes</th>\n",
       "      <th>Status</th>\n",
       "      <th>Airline_Frequency</th>\n",
       "    </tr>\n",
       "  </thead>\n",
       "  <tbody>\n",
       "    <tr>\n",
       "      <th>0</th>\n",
       "      <td>PI664</td>\n",
       "      <td>SereneAir</td>\n",
       "      <td>SKZ</td>\n",
       "      <td>MUX</td>\n",
       "      <td>2025-10-22 18:24:00</td>\n",
       "      <td>Evening</td>\n",
       "      <td>2025-10-22 22:16:00</td>\n",
       "      <td>Night</td>\n",
       "      <td>1h 50m</td>\n",
       "      <td>975</td>\n",
       "      <td>Airbus A320</td>\n",
       "      <td>26948</td>\n",
       "      <td>120</td>\n",
       "      <td>Delayed</td>\n",
       "      <td>244</td>\n",
       "    </tr>\n",
       "    <tr>\n",
       "      <th>1</th>\n",
       "      <td>AI647</td>\n",
       "      <td>AirSial</td>\n",
       "      <td>UET</td>\n",
       "      <td>KHI</td>\n",
       "      <td>2025-10-22 23:13:00</td>\n",
       "      <td>Night</td>\n",
       "      <td>2025-10-23 03:13:00</td>\n",
       "      <td>Night</td>\n",
       "      <td>3h 54m</td>\n",
       "      <td>982</td>\n",
       "      <td>Airbus A321</td>\n",
       "      <td>13010</td>\n",
       "      <td>120</td>\n",
       "      <td>Delayed</td>\n",
       "      <td>280</td>\n",
       "    </tr>\n",
       "    <tr>\n",
       "      <th>2</th>\n",
       "      <td>PI638</td>\n",
       "      <td>SereneAir</td>\n",
       "      <td>SKZ</td>\n",
       "      <td>LHE</td>\n",
       "      <td>2025-10-17 06:45:00</td>\n",
       "      <td>Morning</td>\n",
       "      <td>2025-10-17 09:55:00</td>\n",
       "      <td>Morning</td>\n",
       "      <td>3h 14m</td>\n",
       "      <td>1473</td>\n",
       "      <td>Boeing 737</td>\n",
       "      <td>11845</td>\n",
       "      <td>0</td>\n",
       "      <td>On-Time</td>\n",
       "      <td>244</td>\n",
       "    </tr>\n",
       "  </tbody>\n",
       "</table>\n",
       "</div>"
      ],
      "text/plain": [
       "  Flight_ID    Airline Source_Airport Destination_Airport      Departure_Time  \\\n",
       "0     PI664  SereneAir            SKZ                 MUX 2025-10-22 18:24:00   \n",
       "1     AI647    AirSial            UET                 KHI 2025-10-22 23:13:00   \n",
       "2     PI638  SereneAir            SKZ                 LHE 2025-10-17 06:45:00   \n",
       "\n",
       "  Departure_Period        Arrival_Time Arrival_Period Duration  Distance_km  \\\n",
       "0          Evening 2025-10-22 22:16:00          Night   1h 50m          975   \n",
       "1            Night 2025-10-23 03:13:00          Night   3h 54m          982   \n",
       "2          Morning 2025-10-17 09:55:00        Morning   3h 14m         1473   \n",
       "\n",
       "  Aircraft_Type  Ticket_Price_PKR  Delay_Minutes   Status  Airline_Frequency  \n",
       "0   Airbus A320             26948            120  Delayed                244  \n",
       "1   Airbus A321             13010            120  Delayed                280  \n",
       "2    Boeing 737             11845              0  On-Time                244  "
      ]
     },
     "execution_count": 17,
     "metadata": {},
     "output_type": "execute_result"
    }
   ],
   "source": [
    "df.head(3)"
   ]
  },
  {
   "cell_type": "code",
   "execution_count": 18,
   "id": "1891fa9f-897b-4bcd-a524-57d8be17e0ce",
   "metadata": {},
   "outputs": [],
   "source": [
    "df.drop_duplicates(inplace=True)"
   ]
  },
  {
   "cell_type": "code",
   "execution_count": 19,
   "id": "ea5e43a3-7e5a-44da-9ce0-cc2f796f751c",
   "metadata": {},
   "outputs": [],
   "source": [
    "df.to_csv(\"pakistan_flight_data_cleaned.csv\", index=False)\n"
   ]
  },
  {
   "cell_type": "code",
   "execution_count": 20,
   "id": "25c1b384-ee6f-4029-95af-e34974460632",
   "metadata": {},
   "outputs": [
    {
     "data": {
      "text/plain": [
       "Airline\n",
       "AirBlue      290\n",
       "AirSial      280\n",
       "FlyJinnah    257\n",
       "SereneAir    244\n",
       "PIA          240\n",
       "Name: count, dtype: int64"
      ]
     },
     "execution_count": 20,
     "metadata": {},
     "output_type": "execute_result"
    }
   ],
   "source": [
    "flights_per_airline = df['Airline'].value_counts()\n",
    "flights_per_airline"
   ]
  },
  {
   "cell_type": "code",
   "execution_count": 21,
   "id": "626e701a-e24b-44a6-a540-5bc83bb83942",
   "metadata": {},
   "outputs": [
    {
     "data": {
      "text/plain": [
       "ISB    357\n",
       "PEW    337\n",
       "LHE    336\n",
       "KHI    336\n",
       "LYP    325\n",
       "UET    324\n",
       "SKZ    313\n",
       "MUX    294\n",
       "Name: count, dtype: int64"
      ]
     },
     "execution_count": 21,
     "metadata": {},
     "output_type": "execute_result"
    }
   ],
   "source": [
    "departures = df['Source_Airport'].value_counts()\n",
    "arrivals = df['Destination_Airport'].value_counts()\n",
    "\n",
    "busiest_airports = (departures + arrivals).sort_values(ascending=False)\n",
    "busiest_airports"
   ]
  },
  {
   "cell_type": "code",
   "execution_count": 22,
   "id": "8007ec1b-d62b-455b-8b10-9c59c6c6def7",
   "metadata": {},
   "outputs": [
    {
     "name": "stdout",
     "output_type": "stream",
     "text": [
      "Minimum Ticket Price: 10071\n",
      "Maximum Ticket Price: 54974\n",
      "Average Ticket Price: 32989.57055682685\n"
     ]
    }
   ],
   "source": [
    "min_price = df['Ticket_Price_PKR'].min()\n",
    "max_price = df['Ticket_Price_PKR'].max()\n",
    "mean_price = df['Ticket_Price_PKR'].mean()\n",
    "\n",
    "print(\"Minimum Ticket Price:\", min_price)\n",
    "print(\"Maximum Ticket Price:\", max_price)\n",
    "print(\"Average Ticket Price:\", mean_price)\n"
   ]
  },
  {
   "cell_type": "code",
   "execution_count": 23,
   "id": "541ccfe5-4c09-4250-a59f-11836fb5aab9",
   "metadata": {},
   "outputs": [
    {
     "name": "stdout",
     "output_type": "stream",
     "text": [
      "✈️ Flights by Departure Period:\n",
      " Departure_Period\n",
      "Night        453\n",
      "Morning      395\n",
      "Afternoon    258\n",
      "Evening      205\n",
      "Name: count, dtype: int64\n",
      "\n",
      " Flights by Arrival Period:\n",
      " Arrival_Period\n",
      "Night        446\n",
      "Morning      396\n",
      "Afternoon    262\n",
      "Evening      207\n",
      "Name: count, dtype: int64\n"
     ]
    }
   ],
   "source": [
    "departure_counts = df['Departure_Period'].value_counts()\n",
    "\n",
    "arrival_counts = df['Arrival_Period'].value_counts()\n",
    "\n",
    "print(\"✈️ Flights by Departure Period:\\n\", departure_counts)\n",
    "print(\"\\n Flights by Arrival Period:\\n\", arrival_counts)\n"
   ]
  },
  {
   "cell_type": "code",
   "execution_count": 24,
   "id": "be860751-0d8c-4691-b120-8a66f96a4cc7",
   "metadata": {},
   "outputs": [
    {
     "data": {
      "text/plain": [
       "Departure_Period\n",
       "Afternoon    42.965116\n",
       "Evening      37.780488\n",
       "Morning      38.000000\n",
       "Night        37.604857\n",
       "Name: Delay_Minutes, dtype: float64"
      ]
     },
     "execution_count": 24,
     "metadata": {},
     "output_type": "execute_result"
    }
   ],
   "source": [
    "delay_by_period = df.groupby('Departure_Period')['Delay_Minutes'].mean()\n",
    "delay_by_period\n"
   ]
  },
  {
   "cell_type": "code",
   "execution_count": 25,
   "id": "5cd1b81d-bd59-415d-b3ae-26d74b8e349b",
   "metadata": {},
   "outputs": [
    {
     "data": {
      "text/plain": [
       "Airline\n",
       "AirBlue      40.827586\n",
       "AirSial      36.482143\n",
       "FlyJinnah    34.902724\n",
       "PIA          41.604167\n",
       "SereneAir    40.430328\n",
       "Name: Delay_Minutes, dtype: float64"
      ]
     },
     "execution_count": 25,
     "metadata": {},
     "output_type": "execute_result"
    }
   ],
   "source": [
    "delay_by_period = df.groupby('Airline')['Delay_Minutes'].mean()\n",
    "delay_by_period\n"
   ]
  },
  {
   "cell_type": "code",
   "execution_count": 26,
   "id": "c9d28102-2f18-4b26-ba9e-9916ea40f26d",
   "metadata": {},
   "outputs": [
    {
     "data": {
      "text/html": [
       "<div>\n",
       "<style scoped>\n",
       "    .dataframe tbody tr th:only-of-type {\n",
       "        vertical-align: middle;\n",
       "    }\n",
       "\n",
       "    .dataframe tbody tr th {\n",
       "        vertical-align: top;\n",
       "    }\n",
       "\n",
       "    .dataframe thead th {\n",
       "        text-align: right;\n",
       "    }\n",
       "</style>\n",
       "<table border=\"1\" class=\"dataframe\">\n",
       "  <thead>\n",
       "    <tr style=\"text-align: right;\">\n",
       "      <th></th>\n",
       "      <th>Ticket_Price_PKR</th>\n",
       "      <th>Delay_Minutes</th>\n",
       "    </tr>\n",
       "  </thead>\n",
       "  <tbody>\n",
       "    <tr>\n",
       "      <th>Ticket_Price_PKR</th>\n",
       "      <td>1.000000</td>\n",
       "      <td>0.016594</td>\n",
       "    </tr>\n",
       "    <tr>\n",
       "      <th>Delay_Minutes</th>\n",
       "      <td>0.016594</td>\n",
       "      <td>1.000000</td>\n",
       "    </tr>\n",
       "  </tbody>\n",
       "</table>\n",
       "</div>"
      ],
      "text/plain": [
       "                  Ticket_Price_PKR  Delay_Minutes\n",
       "Ticket_Price_PKR          1.000000       0.016594\n",
       "Delay_Minutes             0.016594       1.000000"
      ]
     },
     "execution_count": 26,
     "metadata": {},
     "output_type": "execute_result"
    }
   ],
   "source": [
    "df[['Ticket_Price_PKR', 'Delay_Minutes']].corr()\n"
   ]
  },
  {
   "cell_type": "code",
   "execution_count": 27,
   "id": "bc8f4382-2139-45ad-b171-deb24f71a614",
   "metadata": {},
   "outputs": [
    {
     "data": {
      "text/plain": [
       "Status\n",
       "Cancelled    449\n",
       "On-Time      448\n",
       "Delayed      414\n",
       "Name: count, dtype: int64"
      ]
     },
     "execution_count": 27,
     "metadata": {},
     "output_type": "execute_result"
    }
   ],
   "source": [
    "df['Status'].value_counts()\n"
   ]
  },
  {
   "cell_type": "code",
   "execution_count": 28,
   "id": "f5803d0d-0903-4e57-9dc9-a8195416f259",
   "metadata": {},
   "outputs": [
    {
     "data": {
      "image/png": "[encoded data removed]",
      "text/plain": [
       "<Figure size 640x480 with 1 Axes>"
      ]
     },
     "metadata": {},
     "output_type": "display_data"
    }
   ],
   "source": [
    "ax = sns.countplot(x='Status',data=df)\n",
    "for bars in ax.containers:\n",
    "    ax.bar_label(bars)"
   ]
  },
  {
   "cell_type": "code",
   "execution_count": 29,
   "id": "a831807d-a886-4f55-b35b-b715dd9226aa",
   "metadata": {},
   "outputs": [
    {
     "data": {
      "text/plain": [
       "<Axes: title={'center': 'Flights per Airline'}, xlabel='Airline'>"
      ]
     },
     "execution_count": 29,
     "metadata": {},
     "output_type": "execute_result"
    },
    {
     "data": {
      "image/png": "[encoded data removed]",
      "text/plain": [
       "<Figure size 640x480 with 1 Axes>"
      ]
     },
     "metadata": {},
     "output_type": "display_data"
    }
   ],
   "source": [
    "df['Airline'].value_counts().plot(kind='bar', color='skyblue', title='Flights per Airline')\n"
   ]
  },
  {
   "cell_type": "code",
   "execution_count": 30,
   "id": "6ab04303-22dd-4872-a272-a31eb7768591",
   "metadata": {},
   "outputs": [
    {
     "data": {
      "text/plain": [
       "<Axes: title={'center': 'Flight Status Distribution'}, ylabel='count'>"
      ]
     },
     "execution_count": 30,
     "metadata": {},
     "output_type": "execute_result"
    },
    {
     "data": {
      "image/png": "[encoded data removed]",
      "text/plain": [
       "<Figure size 640x480 with 1 Axes>"
      ]
     },
     "metadata": {},
     "output_type": "display_data"
    }
   ],
   "source": [
    "df['Status'].value_counts().plot(kind='pie', autopct='%13.8f%%', title='Flight Status Distribution')\n"
   ]
  },
  {
   "cell_type": "code",
   "execution_count": 31,
   "id": "5f147b61-e78a-40fb-9ec9-83022edc3728",
   "metadata": {},
   "outputs": [
    {
     "data": {
      "text/plain": [
       "<Axes: title={'center': 'Average Delay per Airline'}, xlabel='Airline'>"
      ]
     },
     "execution_count": 31,
     "metadata": {},
     "output_type": "execute_result"
    },
    {
     "data": {
      "image/png": "[encoded data removed]",
      "text/plain": [
       "<Figure size 640x480 with 1 Axes>"
      ]
     },
     "metadata": {},
     "output_type": "display_data"
    }
   ],
   "source": [
    "df.groupby('Airline')['Delay_Minutes'].mean().plot(kind='bar', color='orange', title='Average Delay per Airline')\n"
   ]
  },
  {
   "cell_type": "code",
   "execution_count": 43,
   "id": "e14bf508-aec1-4ac1-85f0-f280dee8a3a3",
   "metadata": {},
   "outputs": [
    {
     "data": {
      "text/plain": [
       "<Figure size 1000x600 with 0 Axes>"
      ]
     },
     "execution_count": 43,
     "metadata": {},
     "output_type": "execute_result"
    },
    {
     "data": {
      "image/png": "[encoded data removed]",
      "text/plain": [
       "<Figure size 640x480 with 1 Axes>"
      ]
     },
     "metadata": {},
     "output_type": "display_data"
    },
    {
     "data": {
      "text/plain": [
       "<Figure size 1000x600 with 0 Axes>"
      ]
     },
     "metadata": {},
     "output_type": "display_data"
    }
   ],
   "source": [
    "df['Ticket_Price_PKR'].plot(kind='hist', bins=20, color='green', title='Ticket Price Distribution')\n",
    "plt.figure(figsize=(10, 6)) \n"
   ]
  },
  {
   "cell_type": "code",
   "execution_count": 33,
   "id": "310c6ae2-22e0-4d1b-94a3-11a797db48c3",
   "metadata": {},
   "outputs": [
    {
     "data": {
      "text/plain": [
       "<Axes: xlabel='Departure_Period', ylabel='count'>"
      ]
     },
     "execution_count": 33,
     "metadata": {},
     "output_type": "execute_result"
    },
    {
     "data": {
      "image/png": "[encoded data removed]",
      "text/plain": [
       "<Figure size 640x480 with 1 Axes>"
      ]
     },
     "metadata": {},
     "output_type": "display_data"
    }
   ],
   "source": [
    "sns.countplot(x='Departure_Period', hue='Status', data=df)\n"
   ]
  },
  {
   "cell_type": "code",
   "execution_count": 34,
   "id": "ab659dd9-d509-4bd1-8c19-89f616d32c0b",
   "metadata": {},
   "outputs": [
    {
     "data": {
      "text/plain": [
       "<Axes: xlabel='Status', ylabel='Departure_Period'>"
      ]
     },
     "execution_count": 34,
     "metadata": {},
     "output_type": "execute_result"
    },
    {
     "data": {
      "image/png": "[encoded data removed]",
      "text/plain": [
       "<Figure size 640x480 with 2 Axes>"
      ]
     },
     "metadata": {},
     "output_type": "display_data"
    }
   ],
   "source": [
    "\n",
    "sns.heatmap(pd.crosstab(df['Departure_Period'], df['Status']), annot=True, cmap='Blues')\n"
   ]
  },
  {
   "cell_type": "code",
   "execution_count": 35,
   "id": "126bef30-11fb-4be1-9062-b5db06f254ab",
   "metadata": {},
   "outputs": [
    {
     "data": {
      "text/plain": [
       "Airline\n",
       "AirBlue      290\n",
       "AirSial      280\n",
       "FlyJinnah    257\n",
       "SereneAir    244\n",
       "PIA          240\n",
       "Name: count, dtype: int64"
      ]
     },
     "execution_count": 35,
     "metadata": {},
     "output_type": "execute_result"
    }
   ],
   "source": [
    "df['Airline'].value_counts()"
   ]
  },
  {
   "cell_type": "code",
   "execution_count": 36,
   "id": "ae20ae51-d0df-42a3-b1a2-a70c6cc609e4",
   "metadata": {},
   "outputs": [
    {
     "data": {
      "text/plain": [
       "(1311, 15)"
      ]
     },
     "execution_count": 36,
     "metadata": {},
     "output_type": "execute_result"
    }
   ],
   "source": [
    "df.shape"
   ]
  },
  {
   "cell_type": "code",
   "execution_count": null,
   "id": "5eef479a-ef4e-4707-be0a-4a61b59c1f28",
   "metadata": {},
   "outputs": [],
   "source": []
  },
  {
   "cell_type": "code",
   "execution_count": null,
   "id": "e5459ab0-57f3-447f-80e3-d13bbbebbc06",
   "metadata": {},
   "outputs": [],
   "source": []
  }
 ],
 "metadata": {
  "kernelspec": {
   "display_name": "Python 3 (ipykernel)",
   "language": "python",
   "name": "python3"
  },
  "language_info": {
   "codemirror_mode": {
    "name": "ipython",
    "version": 3
   },
   "file_extension": ".py",
   "mimetype": "text/x-python",
   "name": "python",
   "nbconvert_exporter": "python",
   "pygments_lexer": "ipython3",
   "version": "3.13.7"
  }
 },
 "nbformat": 4,
 "nbformat_minor": 5
}
